{
 "cells": [
  {
   "cell_type": "code",
   "execution_count": 35,
   "metadata": {},
   "outputs": [],
   "source": [
    "import matplotlib.pyplot as plt # for plotting\n",
    "from tmaze_toolkit.data.extraction import selectDoorCoords, extractDoorTraces, initial_coords\n",
    "from tmaze_toolkit.processing.signal import bandpass_filter, process_door_traces\n",
    "from tmaze_toolkit.visualization.plotDoorTraces import plotDoorTraces\n",
    "from tmaze_toolkit.data.openFunctions import openDoorTracesPkl\n",
    "from tmaze_toolkit.processing.extractTrialTimes import extract_floor_traces, extract_trial_times, verify_correct_trial_times\n",
    "from tmaze_toolkit.data.jsonProcessing import load_json_files, add_trajectories, save_outDict\n",
    "from tmaze_toolkit.visualization.plotTrajectory import plot_trajectory, plot_trajectory_all_trials, plot_multiple_bodyparts\n",
    "from tmaze_toolkit.processing.normalize import normalize_trajectory\n",
    "from tmaze_toolkit.data.analysisTools import find_percent_correct, find_trial_length, save_trial_duration, load_trial_duration"
   ]
  },
  {
   "cell_type": "code",
   "execution_count": 70,
   "metadata": {},
   "outputs": [],
   "source": [
    "pkl_file = r\"N:\\TMAZE\\TMAZE_REFIND_VID_NEW\\Cropped_ATO1_Vidoes\\ATO1_2025-03-25T13_51_43_doorTraces.pkl\"\n",
    "jsonFileLocation = r\"N:\\TMAZE\\TMAZE_DATA\\data_ATO4_20250325*\"\n"
   ]
  },
  {
   "cell_type": "code",
   "execution_count": 71,
   "metadata": {},
   "outputs": [
    {
     "name": "stdout",
     "output_type": "stream",
     "text": [
      "Found 3 json files\n",
      "Animal ID: ATO4\n",
      "Working on file N:\\TMAZE\\TMAZE_DATA\\data_ATO4_20250325_175243.json\n",
      "Working on file N:\\TMAZE\\TMAZE_DATA\\data_ATO4_20250325_183637.json\n",
      "Working on file N:\\TMAZE\\TMAZE_DATA\\data_ATO4_20250325_185640.json\n",
      "133\n",
      "Correctness:0.849624060150376\n"
     ]
    }
   ],
   "source": [
    "outDict = load_json_files(jsonFileLocation)\n",
    "print(len(outDict))\n",
    "print(f\"Correctness:{find_percent_correct(outDict)}\")"
   ]
  },
  {
   "cell_type": "code",
   "execution_count": 53,
   "metadata": {},
   "outputs": [
    {
     "data": {
      "text/plain": [
       "1398.658536585366"
      ]
     },
     "execution_count": 53,
     "metadata": {},
     "output_type": "execute_result"
    }
   ],
   "source": [
    "def convert_to_time(timelist):\n",
    "    time_in_seconds = timelist[3:6]\n",
    "    hours = time_in_seconds[0] * 3600\n",
    "    minutes = time_in_seconds[1] * 60\n",
    "    seconds = time_in_seconds[2]\n",
    "    total =hours + minutes + seconds\n",
    "    return total\n",
    "\n",
    "def find_duration_from_json(outDict):\n",
    "    trial_duration = []\n",
    "    for x in range(len(outDict)-2):\n",
    "        start_time = convert_to_time(outDict[x]['trial_time'])\n",
    "        end_time = convert_to_time(outDict[x+1]['trial_time'])\n",
    "        \n",
    "        duration = end_time - start_time\n",
    "        # Convert to frames\n",
    "        duration_frames = duration * 30\n",
    "        trial_duration.append(duration_frames)\n",
    "    return trial_duration\n",
    "\n",
    "def find_average_duration(trial_duration):\n",
    "    num = len(trial_duration)\n",
    "    counter = 0\n",
    "    for x in range(num):\n",
    "        counter += trial_duration[x]\n",
    "    return counter/num\n",
    "\n",
    "z = find_duration_from_json(outDict)\n",
    "find_average_duration(z)\n",
    "\n",
    "\n"
   ]
  },
  {
   "cell_type": "code",
   "execution_count": 18,
   "metadata": {},
   "outputs": [],
   "source": [
    "def find_average_duration(trial_duration):\n",
    "    num = len(trial_duration)\n",
    "    counter = 0\n",
    "    for x in range(num):\n",
    "        counter += trial_duration.iloc[x]['trial_duration']\n",
    "    return counter/num"
   ]
  },
  {
   "cell_type": "code",
   "execution_count": null,
   "metadata": {},
   "outputs": [],
   "source": [
    "avgDur = find_average_duration(trial_duration)\n",
    "print(f\"Average Duration:{avgDur}\")"
   ]
  },
  {
   "cell_type": "code",
   "execution_count": 73,
   "metadata": {},
   "outputs": [],
   "source": [
    "import pandas as pd\n",
    "import matplotlib as plt\n",
    "\n",
    "data = {\n",
    "    'animal id': ['ATO1', 'ATO4', 'ATO6', 'ATO1', 'ATO4', 'ATO6'],  # Replace with your actual data\n",
    "    'injection': ['CNO', 'Saline', 'CNO', 'Saline', 'ATO4', 'ATO6'],  # Replace with your actual data\n",
    "    'percent correct': [.5934,.73404,.66,.8,.7865,.8611],\n",
    "    'texture': ['1', '1', '1', '1', '1', '1'] \n",
    "}\n"
   ]
  },
  {
   "cell_type": "code",
   "execution_count": 78,
   "metadata": {},
   "outputs": [
    {
     "name": "stdout",
     "output_type": "stream",
     "text": [
      "  animal id injection  percent correct texture\n",
      "0      ATO1       CNO          0.59340       1\n",
      "1      ATO4    Saline          0.73404       1\n",
      "2      ATO6       CNO          0.66000       1\n",
      "3      ATO1    Saline          0.80000       1\n",
      "4      ATO4      ATO4          0.78650       1\n",
      "5      ATO6      ATO6          0.86110       1\n"
     ]
    }
   ],
   "source": [
    "df = pd.DataFrame(data)\n",
    "print(df)"
   ]
  }
 ],
 "metadata": {
  "kernelspec": {
   "display_name": "venv",
   "language": "python",
   "name": "python3"
  },
  "language_info": {
   "codemirror_mode": {
    "name": "ipython",
    "version": 3
   },
   "file_extension": ".py",
   "mimetype": "text/x-python",
   "name": "python",
   "nbconvert_exporter": "python",
   "pygments_lexer": "ipython3",
   "version": "3.13.3"
  }
 },
 "nbformat": 4,
 "nbformat_minor": 2
}
